{
 "cells": [
  {
   "cell_type": "code",
   "execution_count": null,
   "id": "947c44c9",
   "metadata": {},
   "outputs": [],
   "source": [
    "import numpy as np\n",
    "import random\n",
    "import string\n",
    "rnd=np.random\n",
    "rnd.seed(0)"
   ]
  },
  {
   "cell_type": "code",
   "execution_count": null,
   "id": "08e51d93",
   "metadata": {},
   "outputs": [],
   "source": [
    "# nber of items\n",
    "nb_items=10\n",
    "list_article=[]\n",
    "for index in range(1,nb_items+10):\n",
    "    item=random.choice(string.ascii_lowercase)\n",
    "    while item not in list_article and len(list_article)<10:\n",
    "        list_article.append(item)\n",
    "print(list_article)\n",
    "\n",
    "# nber of clients\n",
    "nb_clients=5\n",
    "N=[iorder for iorder in range(1,nb_clients+1)]\n",
    "\n",
    "# nber of pickers\n",
    "nber_pickers=4\n",
    "Batch= [jbatch for jbatch in range(1,nber_pickers+1)]\n",
    "Q=100                 # Batch capacity\n",
    "\n",
    "# nber of aisle\n",
    "K=3     \n",
    "G=[kaisle for kaisle in range(1,K+1)]\n",
    "L=100\n",
    "W=40"
   ]
  },
  {
   "cell_type": "code",
   "execution_count": null,
   "id": "086e2b51",
   "metadata": {},
   "outputs": [],
   "source": [
    "#Orders and quantities\n",
    "Qte=range(1,20)\n",
    "for iorder in N:\n",
    "    limit=rnd.randint(1,9)\n",
    "    Order ={iorder:random.sample(list_article,limit)}\n",
    "    print(Order)\n",
    "   # q={iorder:random.sample(Qte, limit)}\n",
    "    qte=random.sample(Qte, limit)\n",
    "    print(qte)\n",
    "    sum=0\n",
    "    for elem in range(0,len(qte)):\n",
    "        sum=sum+qte[elem]\n",
    "        mqte=sum\n",
    "    print(mqte)"
   ]
  },
  {
   "cell_type": "code",
   "execution_count": null,
   "id": "74b75e16",
   "metadata": {},
   "outputs": [],
   "source": [
    "#articles's location\n",
    "val_x=[]\n",
    "loc_x=[]\n",
    "loc_y=[]\n",
    "xabs=[0,40,80]\n",
    "for kaisle in G: \n",
    "    x_coord= { kaisle:xabs[kaisle-1]}\n",
    "    val_x.append(x_coord[kaisle])\n",
    "print(val_x)\n",
    "for elem in range(0,nb_items):\n",
    "    loc_x.append(random.choice(val_x))\n",
    "    \n",
    "loc_y= rnd.rand(10)*100\n",
    "loc_x.append(0)\n",
    "loc_y=np.append(loc_y,0)\n",
    "print(loc_x)\n",
    "print(loc_y)"
   ]
  },
  {
   "cell_type": "code",
   "execution_count": null,
   "id": "9a655548",
   "metadata": {},
   "outputs": [],
   "source": [
    "import matplotlib.pyplot as plt"
   ]
  },
  {
   "cell_type": "code",
   "execution_count": null,
   "id": "aa03e77f",
   "metadata": {},
   "outputs": [],
   "source": [
    "#Layout\n",
    "plt.scatter(loc_x[0:10],loc_y[0:10],c='b')\n",
    "for elem in range(0,nb_items):\n",
    "    plt.annotate( \"%s\" %(list_article[elem]),(loc_x[elem]+2,loc_y[elem]))\n",
    "plt.plot(loc_x[10],loc_y[10], c='r', marker='s')\n",
    "plt.axis('equal');"
   ]
  },
  {
   "cell_type": "code",
   "execution_count": null,
   "id": "7d428724",
   "metadata": {},
   "outputs": [],
   "source": [
    "# set\n",
    "A=[(iorder,jbatch) for iorder in N for jbatch in Batch]\n",
    "B=[(jbatch, kaisle) for jbatch in Batch for  kaisle in G ]\n",
    "C=[(iorder, kaisle) for iorder in N for  kaisle in G ]"
   ]
  },
  {
   "cell_type": "code",
   "execution_count": null,
   "id": "104bbcd9",
   "metadata": {},
   "outputs": [],
   "source": [
    "from gurobipy import*"
   ]
  },
  {
   "cell_type": "code",
   "execution_count": null,
   "id": "502fed14",
   "metadata": {},
   "outputs": [],
   "source": [
    "mdl = Model(\"OBP\")"
   ]
  },
  {
   "cell_type": "code",
   "execution_count": null,
   "id": "32511945",
   "metadata": {},
   "outputs": [],
   "source": [
    "xvar=mdl.addVars(A,vtype=GRB.BINARY,name='xvar')\n",
    "pvar=mdl.addVars(B, vtype=GRB.BINARY,name='pvar')\n",
    "yvar=mdl.addVars(B, vtype=GRB.BINARY,name='yvar')\n",
    "cvar=mdl.addVars(Batch, vtype=GRB.BINARY, name='cvar')\n",
    "h_rvar=mdl.addVars(Batch,vtype=GRB.CONTINUOUS, name='h_rvar')\n",
    "h_lvar=mdl.addVars(Batch,vtype=GRB.CONTINUOUS, name='h_lvar')\n",
    "uvar=mdl.addVars(B,vtype=GRB.CONTINUOUS,name='uvar')\n",
    "vvar=mdl.addVars(Batch,vtype=GRB.INTEGER, name='vvar')"
   ]
  },
  {
   "cell_type": "code",
   "execution_count": null,
   "id": "da2e1695",
   "metadata": {},
   "outputs": [],
   "source": [
    "#Model\n",
    "mdl.setObjective(\n",
    "    2*quicksum(quicksum(uvar[jbatch,kaisle] for jbatch in Batch for kaisle in G))+ \n",
    "    2*quicksum( h_rvar[jbatch]+h_lvar[jbatch] for jbatch in Batch)+ \n",
    "    2*L*quicksum(vvar[jbatch]-cvar[jbatch] for jbatch in Batch), GRB.MINIMIZE)\n",
    "\n",
    "mdl.addConstr(quicksum(xvar[iorder,jbatch] for jbatch in Batch)==1 for iorder in N)\n",
    "mdl.addConstr(xvar[iorder,jbatch]<=xvar[jbatch,jbatch] for iorder in N for jbatch in Batch)\n",
    "mdl.addConstr(quicksum(mqte[iorder]*xvar[iorder,jbatch] for iorder in N)<=Q for jbatch in Batch)\n",
    "mdl.addConstr(yvar[jbatch,kaisle]<= quicksum(dvar[iorder,kaisle]*xvar[iorder,jbatch] for iorder in N)<=M*yvar[jbatch,kaisle] for jbatch in Batch for kaisle in G)\n",
    "mdl.addConstr((kaisle-ka)*W*yvar[jbatch,kaisle]<= h_rvar[jbatch] for jbatch in Batch for kaisle in range(ka+1,K))\n",
    "mdl.addConstr((ka-kaisle)*W*yvar[jbatch,kaisle]<= h_lvar[jbatch] for jbatch in Batch for kaisle in range(1,ka-1))\n",
    "mdl.addConstr(quicksum(yvar[jbatch,kaisle] for kaisle in G)+cvar[jbatch]=2*vvar[jbatch] for jbatch in Batch)\n",
    "mdl.addConstr(dvar[iorder,kaisle]*xvar[iorder,jbatch]<= uvar[jbatch,kaisle]+M(1-pvar[jbatch,kaisle])+M(1-cvar[jbatch]) for iorder in N for jbatch in Batch for kaisle in range(2,K))\n",
    "mdl.addConstr(yvar[jbatch,kaisle]- quicksum(yvar[jbatch,lvar] for lvar in range(kaisle+1,K))<= pvar[jbatch,kaisle]<=yvar[jbatch,kaisle] for jbatch in Batch for kaisle in G)\n",
    "\n",
    "\n",
    "model.optimize()"
   ]
  },
  {
   "cell_type": "code",
   "execution_count": null,
   "id": "ff71c2e8",
   "metadata": {},
   "outputs": [],
   "source": [
    "#solution\n",
    "vals = mdl.getAttr('xvar', xvar)\n",
    "selected = gp.tuplelist((iorder,jbatch) for iorder,jbatch in vals.keys() if vals[iorder,jbatch] > 0.5)\n",
    "print(selected)\n",
    "print (\"Optimal value=\", int(model.ObjVal))\n",
    "print(\"Time elapsed:\", time.perf_counter() -start, \"s\")"
   ]
  }
 ],
 "metadata": {
  "kernelspec": {
   "display_name": "Python 3 (ipykernel)",
   "language": "python",
   "name": "python3"
  },
  "language_info": {
   "codemirror_mode": {
    "name": "ipython",
    "version": 3
   },
   "file_extension": ".py",
   "mimetype": "text/x-python",
   "name": "python",
   "nbconvert_exporter": "python",
   "pygments_lexer": "ipython3",
   "version": "3.9.7"
  }
 },
 "nbformat": 4,
 "nbformat_minor": 5
}
